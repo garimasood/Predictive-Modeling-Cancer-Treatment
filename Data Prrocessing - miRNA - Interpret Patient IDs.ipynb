{
 "cells": [
  {
   "cell_type": "code",
   "execution_count": 1,
   "metadata": {},
   "outputs": [],
   "source": [
    "import pandas as pd\n",
    "\n",
    "datapath =\"C:/Users/garim/Documents/Capstone/Full data/Normalized/mirna_norm_log_counts.csv\"\n",
    "mirna = pd.read_csv(datapath)\n"
   ]
  },
  {
   "cell_type": "code",
   "execution_count": 2,
   "metadata": {},
   "outputs": [],
   "source": [
    "tss_map = pd.read_excel(\"C:/Users/garim/Documents/Capstone/Full data/tss_map.xlsx\",sheet_name='tss_map',header=0,converters={'tssC':str,'TissueSourceSite':str}, na_values=[],keep_default_na  = False)\n",
    "sample_map = pd.read_excel(\"C:/Users/garim/Documents/Capstone/Full data/sample_map.xlsx\",sheet_name='sample_map',header=0,converters={'sampleC':str,'sample':str}, na_values=[], keep_default_na  = False)"
   ]
  },
  {
   "cell_type": "code",
   "execution_count": 3,
   "metadata": {},
   "outputs": [
    {
     "data": {
      "text/plain": [
       "array(['01', '02', '04', '05', '06', '07', '08', '09', '10', '11', '12',\n",
       "       '13', '14', '15', '16', '17', '18', '19', '1Z', '20', '21', '22',\n",
       "       '23', '24', '25', '26', '27', '28', '29', '2A', '2E', '2F', '2G',\n",
       "       '2H', '2J', '2K', '2L', '2M', '2N', '2P', '2V', '2W', '2X', '2Y',\n",
       "       '2Z', '30', '31', '32', '33', '34', '35', '36', '37', '38', '39',\n",
       "       '3A', '3B', '3C', '3E', '3G', '3H', '3J', '3K', '3L', '3M', '3N',\n",
       "       '3P', '3Q', '3R', '3S', '3T', '3U', '3W', '3X', '3Z', '41', '42',\n",
       "       '43', '44', '46', '49', '4A', '4B', '4C', '4D', '4E', '4G', '4H',\n",
       "       '4J', '4K', '4L', '4N', '4P', '4Q', '4R', '4S', '4T', '4V', '4W',\n",
       "       '4X', '4Y', '4Z', '50', '51', '52', '53', '55', '56', '57', '58',\n",
       "       '59', '5A', '5B', '5C', '5D', '5F', '5G', '5H', '5J', '5K', '5L',\n",
       "       '5M', '5N', '5P', '5Q', '5R', '5S', '5T', '5U', '5V', '5W', '5X',\n",
       "       '60', '61', '62', '63', '64', '65', '66', '67', '68', '69', '6A',\n",
       "       '6D', '6G', '6H', '70', '71', '72', '73', '74', '75', '76', '77',\n",
       "       '78', '79', '80', '81', '82', '83', '85', '86', '87', '90', '91',\n",
       "       '92', '93', '94', '95', '96', '97', '98', '99', 'A1', 'A2', 'A3',\n",
       "       'A4', 'A5', 'A6', 'A7', 'A8', 'AA', 'AB', 'AC', 'AD', 'AF', 'AG',\n",
       "       'AH', 'AJ', 'AK', 'AL', 'AM', 'AN', 'AO', 'AP', 'AQ', 'AR', 'AS',\n",
       "       'AT', 'AU', 'AV', 'AW', 'AX', 'AY', 'AZ', 'B0', 'B1', 'B2', 'B3',\n",
       "       'B4', 'B5', 'B6', 'B7', 'B8', 'B9', 'BA', 'BB', 'BC', 'BD', 'BF',\n",
       "       'BG', 'BH', 'BI', 'BJ', 'BK', 'BL', 'BM', 'BP', 'BQ', 'BR', 'BS',\n",
       "       'BT', 'BW', 'C4', 'C5', 'C8', 'C9', 'CA', 'CB', 'CC', 'CD', 'CE',\n",
       "       'CF', 'CG', 'CH', 'CI', 'CJ', 'CK', 'CL', 'CM', 'CN', 'CQ', 'CR',\n",
       "       'CS', 'CU', 'CV', 'CW', 'CX', 'CZ', 'D1', 'D3', 'D5', 'D6', 'D7',\n",
       "       'D8', 'D9', 'DA', 'DB', 'DC', 'DD', 'DE', 'DF', 'DG', 'DH', 'DI',\n",
       "       'DJ', 'DK', 'DM', 'DO', 'DQ', 'DR', 'DS', 'DT', 'DU', 'DV', 'DW',\n",
       "       'DX', 'DY', 'DZ', 'E1', 'E2', 'E3', 'E5', 'E6', 'E7', 'E8', 'E9',\n",
       "       'EA', 'EB', 'EC', 'ED', 'EE', 'EF', 'EI', 'EJ', 'EK', 'EL', 'EM',\n",
       "       'EO', 'EP', 'EQ', 'ER', 'ES', 'ET', 'EU', 'EV', 'EW', 'EX', 'EY',\n",
       "       'EZ', 'F1', 'F2', 'F4', 'F5', 'F6', 'F7', 'F9', 'FA', 'FB', 'FC',\n",
       "       'FD', 'FE', 'FF', 'FG', 'FH', 'FI', 'FJ', 'FK', 'FL', 'FM', 'FN',\n",
       "       'FP', 'FQ', 'FR', 'FS', 'FT', 'FU', 'FV', 'FW', 'FX', 'FY', 'FZ',\n",
       "       'G2', 'G3', 'G4', 'G5', 'G6', 'G7', 'G8', 'G9', 'GC', 'GD', 'GE',\n",
       "       'GF', 'GG', 'GH', 'GI', 'GJ', 'GK', 'GL', 'GM', 'GN', 'GP', 'GR',\n",
       "       'GS', 'GU', 'GV', 'GZ', 'H1', 'H2', 'H3', 'H4', 'H5', 'H6', 'H7',\n",
       "       'H8', 'H9', 'HA', 'HB', 'HC', 'HD', 'HE', 'HF', 'HG', 'HH', 'HI',\n",
       "       'HJ', 'HK', 'HL', 'HM', 'HN', 'HP', 'HQ', 'HR', 'HS', 'HT', 'HU',\n",
       "       'HV', 'HW', 'HZ', 'IA', 'IB', 'IC', 'IE', 'IF', 'IG', 'IH', 'IJ',\n",
       "       'IK', 'IM', 'IN', 'IP', 'IQ', 'IR', 'IS', 'IW', 'IZ', 'J1', 'J2',\n",
       "       'J4', 'J7', 'J8', 'J9', 'JA', 'JL', 'JU', 'JV', 'JW', 'JX', 'JY',\n",
       "       'JZ', 'K1', 'K4', 'K6', 'K7', 'K8', 'KA', 'KB', 'KC', 'KD', 'KE',\n",
       "       'KF', 'KG', 'KH', 'KJ', 'KK', 'KL', 'KM', 'KN', 'KO', 'KP', 'KQ',\n",
       "       'KR', 'KS', 'KT', 'KU', 'KV', 'KZ', 'L1', 'L3', 'L4', 'L5', 'L6',\n",
       "       'L7', 'L8', 'L9', 'LA', 'LB', 'LC', 'LD', 'LG', 'LH', 'LI', 'LK',\n",
       "       'LL', 'LN', 'LP', 'LQ', 'LS', 'LT', 'M7', 'M8', 'M9', 'MA', 'MB',\n",
       "       'ME', 'MF', 'MG', 'MH', 'MI', 'MJ', 'MK', 'ML', 'MM', 'MN', 'MO',\n",
       "       'MP', 'MQ', 'MR', 'MS', 'MT', 'MU', 'MV', 'MW', 'MX', 'MY', 'MZ',\n",
       "       'N1', 'N5', 'N6', 'N7', 'N8', 'N9', 'NA', 'NB', 'NC', 'ND', 'NF',\n",
       "       'NG', 'NH', 'NI', 'NJ', 'NK', 'NM', 'NP', 'NQ', 'NS', 'O1', 'O2',\n",
       "       'O8', 'O9', 'OC', 'OD', 'OE', 'OJ', 'OK', 'OL', 'OR', 'OU', 'OW',\n",
       "       'OX', 'OY', 'P3', 'P4', 'P5', 'P6', 'P7', 'P8', 'P9', 'PA', 'PB',\n",
       "       'PC', 'PD', 'PE', 'PG', 'PH', 'PJ', 'PK', 'PL', 'PN', 'PQ', 'PR',\n",
       "       'PT', 'PZ', 'Q1', 'Q2', 'Q3', 'Q4', 'Q9', 'QA', 'QB', 'QC', 'QD',\n",
       "       'QF', 'QG', 'QH', 'QJ', 'QK', 'QL', 'QM', 'QN', 'QQ', 'QR', 'QS',\n",
       "       'QT', 'QU', 'QV', 'QW', 'R1', 'R2', 'R3', 'R5', 'R6', 'R7', 'R8',\n",
       "       'R9', 'RA', 'RB', 'RC', 'RD', 'RE', 'RG', 'RH', 'RL', 'RM', 'RN',\n",
       "       'RP', 'RQ', 'RR', 'RS', 'RT', 'RU', 'RV', 'RW', 'RX', 'RY', 'RZ',\n",
       "       'S2', 'S3', 'S4', 'S5', 'S6', 'S7', 'S8', 'S9', 'SA', 'SB', 'SC',\n",
       "       'SD', 'SE', 'SG', 'SH', 'SI', 'SJ', 'SK', 'SL', 'SN', 'SO', 'SP',\n",
       "       'SQ', 'SR', 'SS', 'ST', 'SU', 'SW', 'SX', 'SY', 'T1', 'T2', 'T3',\n",
       "       'T6', 'T7', 'T9', 'TE', 'TG', 'TK', 'TL', 'TM', 'TN', 'TP', 'TQ',\n",
       "       'TR', 'TS', 'TT', 'TV', 'UB', 'UC', 'UD', 'UE', 'UF', 'UJ', 'UL',\n",
       "       'UN', 'UP', 'UR', 'US', 'UT', 'UU', 'UV', 'UW', 'UY', 'UZ', 'V1',\n",
       "       'V2', 'V3', 'V4', 'V5', 'V6', 'V7', 'V8', 'V9', 'VA', 'VB', 'VD',\n",
       "       'VF', 'VG', 'VK', 'VL', 'VM', 'VN', 'VP', 'VQ', 'VR', 'VS', 'VT',\n",
       "       'VV', 'VW', 'VX', 'VZ', 'W2', 'W3', 'W4', 'W5', 'W6', 'W7', 'W8',\n",
       "       'W9', 'WA', 'WB', 'WC', 'WD', 'WE', 'WF', 'WG', 'WH', 'WJ', 'WK',\n",
       "       'WL', 'WM', 'WN', 'WP', 'WQ', 'WR', 'WS', 'WT', 'WU', 'WW', 'WX',\n",
       "       'WY', 'WZ', 'X2', 'X3', 'X4', 'X5', 'X6', 'X7', 'X8', 'X9', 'XA',\n",
       "       'XB', 'XC', 'XD', 'XE', 'XF', 'XG', 'XH', 'XJ', 'XK', 'XM', 'XN',\n",
       "       'XP', 'XQ', 'XR', 'XS', 'XT', 'XU', 'XV', 'XX', 'XY', 'Y3', 'Y5',\n",
       "       'Y6', 'Y8', 'YA', 'YB', 'YC', 'YD', 'YF', 'YG', 'YH', 'YJ', 'YL',\n",
       "       'YN', 'YR', 'YS', 'YT', 'YU', 'YV', 'YW', 'YX', 'YY', 'YZ', 'Z2',\n",
       "       'Z3', 'Z4', 'Z5', 'Z6', 'Z7', 'Z8', 'ZA', 'ZB', 'ZC', 'ZD', 'ZE',\n",
       "       'ZF', 'ZG', 'ZH', 'ZJ', 'ZK', 'ZL', 'ZM', 'ZN', 'ZP', 'ZQ', 'ZR',\n",
       "       'ZS', 'ZT', 'ZU', 'ZW', 'ZX'], dtype=object)"
      ]
     },
     "execution_count": 3,
     "metadata": {},
     "output_type": "execute_result"
    }
   ],
   "source": [
    "tss_map.tssC.unique()"
   ]
  },
  {
   "cell_type": "code",
   "execution_count": 4,
   "metadata": {},
   "outputs": [],
   "source": [
    "tss_map['tssC'] = tss_map['tssC'].astype(str)\n",
    "sample_map['sampleC']=sample_map['sampleC'].astype(str)"
   ]
  },
  {
   "cell_type": "code",
   "execution_count": 5,
   "metadata": {},
   "outputs": [],
   "source": [
    "tmirna = mirna.transpose()\n",
    "header = tmirna.iloc[0]\n",
    "tmirna = tmirna[1:]\n",
    "tmirna.columns = header"
   ]
  },
  {
   "cell_type": "markdown",
   "metadata": {},
   "source": [
    "Let's look at a chunk of the miRNA data which is otherwise huge:"
   ]
  },
  {
   "cell_type": "code",
   "execution_count": 6,
   "metadata": {},
   "outputs": [
    {
     "data": {
      "text/plain": [
       "(11841, 1446)"
      ]
     },
     "execution_count": 6,
     "metadata": {},
     "output_type": "execute_result"
    }
   ],
   "source": [
    "tmirna.shape"
   ]
  },
  {
   "cell_type": "markdown",
   "metadata": {},
   "source": [
    "Extracting study name to split the data by study"
   ]
  },
  {
   "cell_type": "code",
   "execution_count": 7,
   "metadata": {},
   "outputs": [],
   "source": [
    "tmirna['study'] = tmirna.index.str.split('.').str[0]"
   ]
  },
  {
   "cell_type": "code",
   "execution_count": 8,
   "metadata": {},
   "outputs": [
    {
     "data": {
      "text/html": [
       "<div>\n",
       "<style scoped>\n",
       "    .dataframe tbody tr th:only-of-type {\n",
       "        vertical-align: middle;\n",
       "    }\n",
       "\n",
       "    .dataframe tbody tr th {\n",
       "        vertical-align: top;\n",
       "    }\n",
       "\n",
       "    .dataframe thead th {\n",
       "        text-align: right;\n",
       "    }\n",
       "</style>\n",
       "<table border=\"1\" class=\"dataframe\">\n",
       "  <thead>\n",
       "    <tr style=\"text-align: right;\">\n",
       "      <th>Unnamed: 0</th>\n",
       "      <th>hsa-let-7a-1</th>\n",
       "      <th>hsa-let-7a-2</th>\n",
       "      <th>hsa-let-7a-3</th>\n",
       "      <th>hsa-let-7b</th>\n",
       "      <th>hsa-let-7c</th>\n",
       "      <th>hsa-let-7d</th>\n",
       "      <th>hsa-let-7e</th>\n",
       "      <th>hsa-let-7f-1</th>\n",
       "      <th>hsa-let-7f-2</th>\n",
       "      <th>hsa-let-7g</th>\n",
       "      <th>...</th>\n",
       "      <th>hsa-mir-941-1</th>\n",
       "      <th>hsa-mir-942</th>\n",
       "      <th>hsa-mir-943</th>\n",
       "      <th>hsa-mir-944</th>\n",
       "      <th>hsa-mir-95</th>\n",
       "      <th>hsa-mir-96</th>\n",
       "      <th>hsa-mir-98</th>\n",
       "      <th>hsa-mir-99a</th>\n",
       "      <th>hsa-mir-99b</th>\n",
       "      <th>study</th>\n",
       "    </tr>\n",
       "  </thead>\n",
       "  <tbody>\n",
       "    <tr>\n",
       "      <th>TCGA.AB.2834.03A.01T.0734.13</th>\n",
       "      <td>11.2774</td>\n",
       "      <td>11.2793</td>\n",
       "      <td>11.2692</td>\n",
       "      <td>10.8211</td>\n",
       "      <td>7.41014</td>\n",
       "      <td>11.1039</td>\n",
       "      <td>6.68884</td>\n",
       "      <td>10.418</td>\n",
       "      <td>10.4375</td>\n",
       "      <td>10.2079</td>\n",
       "      <td>...</td>\n",
       "      <td>-1.11667</td>\n",
       "      <td>5.37008</td>\n",
       "      <td>-1.11667</td>\n",
       "      <td>-1.11667</td>\n",
       "      <td>-0.111087</td>\n",
       "      <td>0.475732</td>\n",
       "      <td>6.35384</td>\n",
       "      <td>5.91676</td>\n",
       "      <td>10.7972</td>\n",
       "      <td>TCGA</td>\n",
       "    </tr>\n",
       "    <tr>\n",
       "      <th>TCGA.AB.2964.03A.01T.0734.13</th>\n",
       "      <td>11.8903</td>\n",
       "      <td>11.866</td>\n",
       "      <td>11.8938</td>\n",
       "      <td>11.7492</td>\n",
       "      <td>9.00839</td>\n",
       "      <td>10.7908</td>\n",
       "      <td>7.9883</td>\n",
       "      <td>10.7105</td>\n",
       "      <td>10.6751</td>\n",
       "      <td>10.626</td>\n",
       "      <td>...</td>\n",
       "      <td>-1.11667</td>\n",
       "      <td>4.43187</td>\n",
       "      <td>-1.11667</td>\n",
       "      <td>2.55513</td>\n",
       "      <td>-1.11667</td>\n",
       "      <td>0.00397903</td>\n",
       "      <td>6.1471</td>\n",
       "      <td>7.03329</td>\n",
       "      <td>12.4823</td>\n",
       "      <td>TCGA</td>\n",
       "    </tr>\n",
       "    <tr>\n",
       "      <th>TCGA.AB.2839.03A.01T.0734.13</th>\n",
       "      <td>12.6535</td>\n",
       "      <td>12.6927</td>\n",
       "      <td>12.6871</td>\n",
       "      <td>14.4269</td>\n",
       "      <td>9.38214</td>\n",
       "      <td>10.3656</td>\n",
       "      <td>7.77032</td>\n",
       "      <td>9.96283</td>\n",
       "      <td>10.0309</td>\n",
       "      <td>9.95041</td>\n",
       "      <td>...</td>\n",
       "      <td>-1.11667</td>\n",
       "      <td>4.07046</td>\n",
       "      <td>-1.11667</td>\n",
       "      <td>-1.11667</td>\n",
       "      <td>-1.11667</td>\n",
       "      <td>-1.11667</td>\n",
       "      <td>4.25814</td>\n",
       "      <td>7.95356</td>\n",
       "      <td>12.1927</td>\n",
       "      <td>TCGA</td>\n",
       "    </tr>\n",
       "    <tr>\n",
       "      <th>TCGA.AB.2913.03A.01T.0734.13</th>\n",
       "      <td>12.4382</td>\n",
       "      <td>12.4421</td>\n",
       "      <td>12.4215</td>\n",
       "      <td>13.3949</td>\n",
       "      <td>8.69593</td>\n",
       "      <td>10.0862</td>\n",
       "      <td>7.69445</td>\n",
       "      <td>10.2891</td>\n",
       "      <td>10.404</td>\n",
       "      <td>10.2993</td>\n",
       "      <td>...</td>\n",
       "      <td>-1.11667</td>\n",
       "      <td>4.38286</td>\n",
       "      <td>0.431017</td>\n",
       "      <td>-1.11667</td>\n",
       "      <td>-1.11667</td>\n",
       "      <td>-1.11667</td>\n",
       "      <td>5.36683</td>\n",
       "      <td>7.5517</td>\n",
       "      <td>12.22</td>\n",
       "      <td>TCGA</td>\n",
       "    </tr>\n",
       "    <tr>\n",
       "      <th>TCGA.AB.2904.03A.01T.0734.13</th>\n",
       "      <td>11.8815</td>\n",
       "      <td>11.861</td>\n",
       "      <td>11.8772</td>\n",
       "      <td>12.6196</td>\n",
       "      <td>9.28236</td>\n",
       "      <td>10.1568</td>\n",
       "      <td>6.30405</td>\n",
       "      <td>10.3249</td>\n",
       "      <td>10.3508</td>\n",
       "      <td>10.1974</td>\n",
       "      <td>...</td>\n",
       "      <td>-1.11667</td>\n",
       "      <td>3.50003</td>\n",
       "      <td>-1.11667</td>\n",
       "      <td>-1.11667</td>\n",
       "      <td>0.579907</td>\n",
       "      <td>1.00831</td>\n",
       "      <td>5.23537</td>\n",
       "      <td>7.80887</td>\n",
       "      <td>10.713</td>\n",
       "      <td>TCGA</td>\n",
       "    </tr>\n",
       "    <tr>\n",
       "      <th>TCGA.AB.2912.03A.01T.0734.13</th>\n",
       "      <td>12.1538</td>\n",
       "      <td>12.1441</td>\n",
       "      <td>12.1656</td>\n",
       "      <td>13.0462</td>\n",
       "      <td>6.06923</td>\n",
       "      <td>10.1799</td>\n",
       "      <td>7.73771</td>\n",
       "      <td>10.5338</td>\n",
       "      <td>10.5807</td>\n",
       "      <td>10.5717</td>\n",
       "      <td>...</td>\n",
       "      <td>-1.11667</td>\n",
       "      <td>5.41445</td>\n",
       "      <td>-1.11667</td>\n",
       "      <td>-1.11667</td>\n",
       "      <td>0.191073</td>\n",
       "      <td>-1.11667</td>\n",
       "      <td>6.35959</td>\n",
       "      <td>4.33588</td>\n",
       "      <td>12.2647</td>\n",
       "      <td>TCGA</td>\n",
       "    </tr>\n",
       "    <tr>\n",
       "      <th>TCGA.AB.2917.03A.01T.0734.13</th>\n",
       "      <td>12.1464</td>\n",
       "      <td>12.0996</td>\n",
       "      <td>12.1299</td>\n",
       "      <td>13.0436</td>\n",
       "      <td>9.81489</td>\n",
       "      <td>9.94931</td>\n",
       "      <td>7.73189</td>\n",
       "      <td>10.5507</td>\n",
       "      <td>10.5206</td>\n",
       "      <td>10.6609</td>\n",
       "      <td>...</td>\n",
       "      <td>-1.11667</td>\n",
       "      <td>4.56943</td>\n",
       "      <td>-1.11667</td>\n",
       "      <td>2.25477</td>\n",
       "      <td>0.404298</td>\n",
       "      <td>1.12812</td>\n",
       "      <td>5.16249</td>\n",
       "      <td>8.56935</td>\n",
       "      <td>11.9125</td>\n",
       "      <td>TCGA</td>\n",
       "    </tr>\n",
       "    <tr>\n",
       "      <th>TCGA.AB.2971.03A.01T.0734.13</th>\n",
       "      <td>12.4459</td>\n",
       "      <td>12.427</td>\n",
       "      <td>12.4476</td>\n",
       "      <td>14.0312</td>\n",
       "      <td>4.78066</td>\n",
       "      <td>9.31801</td>\n",
       "      <td>6.2775</td>\n",
       "      <td>9.82737</td>\n",
       "      <td>9.901</td>\n",
       "      <td>9.63614</td>\n",
       "      <td>...</td>\n",
       "      <td>-1.11667</td>\n",
       "      <td>3.53999</td>\n",
       "      <td>-1.11667</td>\n",
       "      <td>3.6682</td>\n",
       "      <td>-1.11667</td>\n",
       "      <td>-0.283672</td>\n",
       "      <td>4.79945</td>\n",
       "      <td>1.39133</td>\n",
       "      <td>10.452</td>\n",
       "      <td>TCGA</td>\n",
       "    </tr>\n",
       "    <tr>\n",
       "      <th>TCGA.AB.2916.03A.01T.0734.13</th>\n",
       "      <td>10.8205</td>\n",
       "      <td>10.8094</td>\n",
       "      <td>10.849</td>\n",
       "      <td>12.2934</td>\n",
       "      <td>4.95576</td>\n",
       "      <td>9.76896</td>\n",
       "      <td>4.36536</td>\n",
       "      <td>8.82271</td>\n",
       "      <td>8.85555</td>\n",
       "      <td>9.43714</td>\n",
       "      <td>...</td>\n",
       "      <td>-1.11667</td>\n",
       "      <td>4.03933</td>\n",
       "      <td>1.34803</td>\n",
       "      <td>-1.11667</td>\n",
       "      <td>-1.11667</td>\n",
       "      <td>1.34803</td>\n",
       "      <td>4.54785</td>\n",
       "      <td>3.69689</td>\n",
       "      <td>9.61641</td>\n",
       "      <td>TCGA</td>\n",
       "    </tr>\n",
       "    <tr>\n",
       "      <th>TCGA.AB.2973.03A.01T.0734.13</th>\n",
       "      <td>11.4394</td>\n",
       "      <td>11.4502</td>\n",
       "      <td>11.418</td>\n",
       "      <td>13.4413</td>\n",
       "      <td>5.39755</td>\n",
       "      <td>9.27611</td>\n",
       "      <td>5.55935</td>\n",
       "      <td>9.2605</td>\n",
       "      <td>9.22878</td>\n",
       "      <td>9.41475</td>\n",
       "      <td>...</td>\n",
       "      <td>-1.11667</td>\n",
       "      <td>3.26802</td>\n",
       "      <td>-1.11667</td>\n",
       "      <td>-1.11667</td>\n",
       "      <td>-1.11667</td>\n",
       "      <td>0.372933</td>\n",
       "      <td>4.84856</td>\n",
       "      <td>3.49837</td>\n",
       "      <td>9.49196</td>\n",
       "      <td>TCGA</td>\n",
       "    </tr>\n",
       "  </tbody>\n",
       "</table>\n",
       "<p>10 rows × 1447 columns</p>\n",
       "</div>"
      ],
      "text/plain": [
       "Unnamed: 0                   hsa-let-7a-1 hsa-let-7a-2 hsa-let-7a-3  \\\n",
       "TCGA.AB.2834.03A.01T.0734.13      11.2774      11.2793      11.2692   \n",
       "TCGA.AB.2964.03A.01T.0734.13      11.8903       11.866      11.8938   \n",
       "TCGA.AB.2839.03A.01T.0734.13      12.6535      12.6927      12.6871   \n",
       "TCGA.AB.2913.03A.01T.0734.13      12.4382      12.4421      12.4215   \n",
       "TCGA.AB.2904.03A.01T.0734.13      11.8815       11.861      11.8772   \n",
       "TCGA.AB.2912.03A.01T.0734.13      12.1538      12.1441      12.1656   \n",
       "TCGA.AB.2917.03A.01T.0734.13      12.1464      12.0996      12.1299   \n",
       "TCGA.AB.2971.03A.01T.0734.13      12.4459       12.427      12.4476   \n",
       "TCGA.AB.2916.03A.01T.0734.13      10.8205      10.8094       10.849   \n",
       "TCGA.AB.2973.03A.01T.0734.13      11.4394      11.4502       11.418   \n",
       "\n",
       "Unnamed: 0                   hsa-let-7b hsa-let-7c hsa-let-7d hsa-let-7e  \\\n",
       "TCGA.AB.2834.03A.01T.0734.13    10.8211    7.41014    11.1039    6.68884   \n",
       "TCGA.AB.2964.03A.01T.0734.13    11.7492    9.00839    10.7908     7.9883   \n",
       "TCGA.AB.2839.03A.01T.0734.13    14.4269    9.38214    10.3656    7.77032   \n",
       "TCGA.AB.2913.03A.01T.0734.13    13.3949    8.69593    10.0862    7.69445   \n",
       "TCGA.AB.2904.03A.01T.0734.13    12.6196    9.28236    10.1568    6.30405   \n",
       "TCGA.AB.2912.03A.01T.0734.13    13.0462    6.06923    10.1799    7.73771   \n",
       "TCGA.AB.2917.03A.01T.0734.13    13.0436    9.81489    9.94931    7.73189   \n",
       "TCGA.AB.2971.03A.01T.0734.13    14.0312    4.78066    9.31801     6.2775   \n",
       "TCGA.AB.2916.03A.01T.0734.13    12.2934    4.95576    9.76896    4.36536   \n",
       "TCGA.AB.2973.03A.01T.0734.13    13.4413    5.39755    9.27611    5.55935   \n",
       "\n",
       "Unnamed: 0                   hsa-let-7f-1 hsa-let-7f-2 hsa-let-7g  ...   \\\n",
       "TCGA.AB.2834.03A.01T.0734.13       10.418      10.4375    10.2079  ...    \n",
       "TCGA.AB.2964.03A.01T.0734.13      10.7105      10.6751     10.626  ...    \n",
       "TCGA.AB.2839.03A.01T.0734.13      9.96283      10.0309    9.95041  ...    \n",
       "TCGA.AB.2913.03A.01T.0734.13      10.2891       10.404    10.2993  ...    \n",
       "TCGA.AB.2904.03A.01T.0734.13      10.3249      10.3508    10.1974  ...    \n",
       "TCGA.AB.2912.03A.01T.0734.13      10.5338      10.5807    10.5717  ...    \n",
       "TCGA.AB.2917.03A.01T.0734.13      10.5507      10.5206    10.6609  ...    \n",
       "TCGA.AB.2971.03A.01T.0734.13      9.82737        9.901    9.63614  ...    \n",
       "TCGA.AB.2916.03A.01T.0734.13      8.82271      8.85555    9.43714  ...    \n",
       "TCGA.AB.2973.03A.01T.0734.13       9.2605      9.22878    9.41475  ...    \n",
       "\n",
       "Unnamed: 0                   hsa-mir-941-1 hsa-mir-942 hsa-mir-943  \\\n",
       "TCGA.AB.2834.03A.01T.0734.13      -1.11667     5.37008    -1.11667   \n",
       "TCGA.AB.2964.03A.01T.0734.13      -1.11667     4.43187    -1.11667   \n",
       "TCGA.AB.2839.03A.01T.0734.13      -1.11667     4.07046    -1.11667   \n",
       "TCGA.AB.2913.03A.01T.0734.13      -1.11667     4.38286    0.431017   \n",
       "TCGA.AB.2904.03A.01T.0734.13      -1.11667     3.50003    -1.11667   \n",
       "TCGA.AB.2912.03A.01T.0734.13      -1.11667     5.41445    -1.11667   \n",
       "TCGA.AB.2917.03A.01T.0734.13      -1.11667     4.56943    -1.11667   \n",
       "TCGA.AB.2971.03A.01T.0734.13      -1.11667     3.53999    -1.11667   \n",
       "TCGA.AB.2916.03A.01T.0734.13      -1.11667     4.03933     1.34803   \n",
       "TCGA.AB.2973.03A.01T.0734.13      -1.11667     3.26802    -1.11667   \n",
       "\n",
       "Unnamed: 0                   hsa-mir-944 hsa-mir-95  hsa-mir-96 hsa-mir-98  \\\n",
       "TCGA.AB.2834.03A.01T.0734.13    -1.11667  -0.111087    0.475732    6.35384   \n",
       "TCGA.AB.2964.03A.01T.0734.13     2.55513   -1.11667  0.00397903     6.1471   \n",
       "TCGA.AB.2839.03A.01T.0734.13    -1.11667   -1.11667    -1.11667    4.25814   \n",
       "TCGA.AB.2913.03A.01T.0734.13    -1.11667   -1.11667    -1.11667    5.36683   \n",
       "TCGA.AB.2904.03A.01T.0734.13    -1.11667   0.579907     1.00831    5.23537   \n",
       "TCGA.AB.2912.03A.01T.0734.13    -1.11667   0.191073    -1.11667    6.35959   \n",
       "TCGA.AB.2917.03A.01T.0734.13     2.25477   0.404298     1.12812    5.16249   \n",
       "TCGA.AB.2971.03A.01T.0734.13      3.6682   -1.11667   -0.283672    4.79945   \n",
       "TCGA.AB.2916.03A.01T.0734.13    -1.11667   -1.11667     1.34803    4.54785   \n",
       "TCGA.AB.2973.03A.01T.0734.13    -1.11667   -1.11667    0.372933    4.84856   \n",
       "\n",
       "Unnamed: 0                   hsa-mir-99a hsa-mir-99b study  \n",
       "TCGA.AB.2834.03A.01T.0734.13     5.91676     10.7972  TCGA  \n",
       "TCGA.AB.2964.03A.01T.0734.13     7.03329     12.4823  TCGA  \n",
       "TCGA.AB.2839.03A.01T.0734.13     7.95356     12.1927  TCGA  \n",
       "TCGA.AB.2913.03A.01T.0734.13      7.5517       12.22  TCGA  \n",
       "TCGA.AB.2904.03A.01T.0734.13     7.80887      10.713  TCGA  \n",
       "TCGA.AB.2912.03A.01T.0734.13     4.33588     12.2647  TCGA  \n",
       "TCGA.AB.2917.03A.01T.0734.13     8.56935     11.9125  TCGA  \n",
       "TCGA.AB.2971.03A.01T.0734.13     1.39133      10.452  TCGA  \n",
       "TCGA.AB.2916.03A.01T.0734.13     3.69689     9.61641  TCGA  \n",
       "TCGA.AB.2973.03A.01T.0734.13     3.49837     9.49196  TCGA  \n",
       "\n",
       "[10 rows x 1447 columns]"
      ]
     },
     "execution_count": 8,
     "metadata": {},
     "output_type": "execute_result"
    }
   ],
   "source": [
    "tmirna.iloc[60:70,]"
   ]
  },
  {
   "cell_type": "code",
   "execution_count": 9,
   "metadata": {},
   "outputs": [
    {
     "data": {
      "text/plain": [
       "TCGA      11076\n",
       "TARGET      765\n",
       "Name: study, dtype: int64"
      ]
     },
     "execution_count": 9,
     "metadata": {},
     "output_type": "execute_result"
    }
   ],
   "source": [
    "tmirna['study'].value_counts()"
   ]
  },
  {
   "cell_type": "code",
   "execution_count": 10,
   "metadata": {},
   "outputs": [
    {
     "data": {
      "text/plain": [
       "(765, 1447)"
      ]
     },
     "execution_count": 10,
     "metadata": {},
     "output_type": "execute_result"
    }
   ],
   "source": [
    "tmirna_target = tmirna[tmirna['study']==\"TARGET\"]\n",
    "tmirna_target.shape"
   ]
  },
  {
   "cell_type": "code",
   "execution_count": 11,
   "metadata": {},
   "outputs": [
    {
     "data": {
      "text/plain": [
       "(11076, 1447)"
      ]
     },
     "execution_count": 11,
     "metadata": {},
     "output_type": "execute_result"
    }
   ],
   "source": [
    "tmirna_tcga = tmirna[tmirna['study']==\"TCGA\"]\n",
    "tmirna_tcga.shape"
   ]
  },
  {
   "cell_type": "code",
   "execution_count": 12,
   "metadata": {},
   "outputs": [
    {
     "data": {
      "text/plain": [
       "True"
      ]
     },
     "execution_count": 12,
     "metadata": {},
     "output_type": "execute_result"
    }
   ],
   "source": [
    "max(tmirna_tcga.index.str.len()) == min(tmirna_tcga.index.str.len())"
   ]
  },
  {
   "cell_type": "markdown",
   "metadata": {},
   "source": [
    "Splitting Patient ID into components to obtain Disease and sample information"
   ]
  },
  {
   "cell_type": "code",
   "execution_count": 13,
   "metadata": {},
   "outputs": [
    {
     "name": "stderr",
     "output_type": "stream",
     "text": [
      "C:\\Users\\garim\\Anaconda3\\lib\\site-packages\\pandas\\core\\frame.py:2540: SettingWithCopyWarning: \n",
      "A value is trying to be set on a copy of a slice from a DataFrame.\n",
      "Try using .loc[row_indexer,col_indexer] = value instead\n",
      "\n",
      "See the caveats in the documentation: http://pandas.pydata.org/pandas-docs/stable/indexing.html#indexing-view-versus-copy\n",
      "  self[k1] = value[k2]\n"
     ]
    }
   ],
   "source": [
    "tmirna_tcga[['study_1C','tssC','participant','sample_vialC','portion_analyte','plate','center']] = pd.DataFrame(tmirna_tcga.index.str.split('.').values.tolist(), index= tmirna_tcga.index)\n",
    "\n"
   ]
  },
  {
   "cell_type": "code",
   "execution_count": 14,
   "metadata": {},
   "outputs": [
    {
     "name": "stderr",
     "output_type": "stream",
     "text": [
      "C:\\Users\\garim\\Anaconda3\\lib\\site-packages\\ipykernel_launcher.py:1: SettingWithCopyWarning: \n",
      "A value is trying to be set on a copy of a slice from a DataFrame.\n",
      "Try using .loc[row_indexer,col_indexer] = value instead\n",
      "\n",
      "See the caveats in the documentation: http://pandas.pydata.org/pandas-docs/stable/indexing.html#indexing-view-versus-copy\n",
      "  \"\"\"Entry point for launching an IPython kernel.\n",
      "C:\\Users\\garim\\Anaconda3\\lib\\site-packages\\ipykernel_launcher.py:2: SettingWithCopyWarning: \n",
      "A value is trying to be set on a copy of a slice from a DataFrame.\n",
      "Try using .loc[row_indexer,col_indexer] = value instead\n",
      "\n",
      "See the caveats in the documentation: http://pandas.pydata.org/pandas-docs/stable/indexing.html#indexing-view-versus-copy\n",
      "  \n",
      "C:\\Users\\garim\\Anaconda3\\lib\\site-packages\\ipykernel_launcher.py:6: SettingWithCopyWarning: \n",
      "A value is trying to be set on a copy of a slice from a DataFrame.\n",
      "Try using .loc[row_indexer,col_indexer] = value instead\n",
      "\n",
      "See the caveats in the documentation: http://pandas.pydata.org/pandas-docs/stable/indexing.html#indexing-view-versus-copy\n",
      "  \n",
      "C:\\Users\\garim\\Anaconda3\\lib\\site-packages\\ipykernel_launcher.py:7: SettingWithCopyWarning: \n",
      "A value is trying to be set on a copy of a slice from a DataFrame.\n",
      "Try using .loc[row_indexer,col_indexer] = value instead\n",
      "\n",
      "See the caveats in the documentation: http://pandas.pydata.org/pandas-docs/stable/indexing.html#indexing-view-versus-copy\n",
      "  import sys\n"
     ]
    }
   ],
   "source": [
    "tmirna_tcga['sampleC'] =  tmirna_tcga['sample_vialC'].str.slice(0,2)\n",
    "tmirna_tcga['vial']= tmirna_tcga['sample_vialC'].str.slice(2,3)\n",
    "\n",
    "tmirna_tcga.iloc[0:5,:]\n",
    "\n",
    "tmirna_tcga['portion'] =  tmirna_tcga['portion_analyte'].str.slice(0,2)\n",
    "tmirna_tcga['analyte']= tmirna_tcga['portion_analyte'].str.slice(2,3)\n"
   ]
  },
  {
   "cell_type": "markdown",
   "metadata": {},
   "source": [
    "Pulling the meaning of TSS and Sample codes under 'tss' and 'sample' columns respectively"
   ]
  },
  {
   "cell_type": "code",
   "execution_count": 15,
   "metadata": {},
   "outputs": [],
   "source": [
    "tmirna_tcga = tmirna_tcga.reset_index()\n",
    "tmirna_tcga = pd.merge(tmirna_tcga, tss_map, how = 'left', on = 'tssC')\n",
    "tmirna_tcga = pd.merge(tmirna_tcga, sample_map, how = 'left', on = 'sampleC')\n"
   ]
  },
  {
   "cell_type": "code",
   "execution_count": 16,
   "metadata": {},
   "outputs": [],
   "source": [
    "tmirna_tcga=tmirna_tcga.drop(['study_1C','sample_vialC'], axis = 1)\n"
   ]
  },
  {
   "cell_type": "code",
   "execution_count": 17,
   "metadata": {},
   "outputs": [
    {
     "data": {
      "text/plain": [
       "['participant',\n",
       " 'portion_analyte',\n",
       " 'plate',\n",
       " 'center',\n",
       " 'sampleC',\n",
       " 'vial',\n",
       " 'portion',\n",
       " 'analyte',\n",
       " 'TissueSourceSite',\n",
       " 'sample']"
      ]
     },
     "execution_count": 17,
     "metadata": {},
     "output_type": "execute_result"
    }
   ],
   "source": [
    "list(tmirna_tcga)[-10:]"
   ]
  },
  {
   "cell_type": "code",
   "execution_count": 67,
   "metadata": {
    "scrolled": true
   },
   "outputs": [
    {
     "data": {
      "text/plain": [
       "Primary Solid Tumor    1095\n",
       "Solid Tissue Normal     104\n",
       "Metastatic                7\n",
       "Name: sample, dtype: int64"
      ]
     },
     "execution_count": 67,
     "metadata": {},
     "output_type": "execute_result"
    }
   ],
   "source": [
    "tmirna_tcga[tmirna_tcga['TissueSourceSite']==\"Breast invasive carcinoma\"]['sample'].value_counts()\n",
    "#aa['sample'].value_counts()"
   ]
  },
  {
   "cell_type": "code",
   "execution_count": 19,
   "metadata": {},
   "outputs": [
    {
     "data": {
      "text/plain": [
       "01    9785\n",
       "11     679\n",
       "06     375\n",
       "03     188\n",
       "02      37\n",
       "05      11\n",
       "07       1\n",
       "Name: sampleC, dtype: int64"
      ]
     },
     "execution_count": 19,
     "metadata": {},
     "output_type": "execute_result"
    }
   ],
   "source": [
    "tmirna_tcga['sampleC'].value_counts()"
   ]
  },
  {
   "cell_type": "code",
   "execution_count": 20,
   "metadata": {},
   "outputs": [
    {
     "ename": "PermissionError",
     "evalue": "[Errno 13] Permission denied: 'C:/Users/garim/Documents/Capstone/Full data/Normalized/count_summary.csv'",
     "output_type": "error",
     "traceback": [
      "\u001b[1;31m---------------------------------------------------------------------------\u001b[0m",
      "\u001b[1;31mPermissionError\u001b[0m                           Traceback (most recent call last)",
      "\u001b[1;32m<ipython-input-20-7b3cf02e9e5e>\u001b[0m in \u001b[0;36m<module>\u001b[1;34m()\u001b[0m\n\u001b[0;32m      1\u001b[0m \u001b[0mcount_summary\u001b[0m \u001b[1;33m=\u001b[0m \u001b[0mtmirna_tcga\u001b[0m\u001b[1;33m.\u001b[0m\u001b[0mgroupby\u001b[0m\u001b[1;33m(\u001b[0m\u001b[1;33m[\u001b[0m\u001b[1;34m'TissueSourceSite'\u001b[0m\u001b[1;33m,\u001b[0m\u001b[1;34m'sample'\u001b[0m\u001b[1;33m,\u001b[0m\u001b[1;34m'portion'\u001b[0m\u001b[1;33m,\u001b[0m\u001b[1;34m'sampleC'\u001b[0m\u001b[1;33m]\u001b[0m\u001b[1;33m)\u001b[0m\u001b[1;33m[\u001b[0m\u001b[1;34m'index'\u001b[0m\u001b[1;33m]\u001b[0m\u001b[1;33m.\u001b[0m\u001b[0mcount\u001b[0m\u001b[1;33m(\u001b[0m\u001b[1;33m)\u001b[0m\u001b[1;33m\u001b[0m\u001b[0m\n\u001b[1;32m----> 2\u001b[1;33m \u001b[0mcount_summary\u001b[0m\u001b[1;33m.\u001b[0m\u001b[0mto_csv\u001b[0m\u001b[1;33m(\u001b[0m\u001b[1;34m\"C:/Users/garim/Documents/Capstone/Full data/Normalized/count_summary.csv\"\u001b[0m\u001b[1;33m)\u001b[0m\u001b[1;33m\u001b[0m\u001b[0m\n\u001b[0m",
      "\u001b[1;32m~\\Anaconda3\\lib\\site-packages\\pandas\\core\\series.py\u001b[0m in \u001b[0;36mto_csv\u001b[1;34m(self, path, index, sep, na_rep, float_format, header, index_label, mode, encoding, date_format, decimal)\u001b[0m\n\u001b[0;32m   2937\u001b[0m                            \u001b[0mindex_label\u001b[0m\u001b[1;33m=\u001b[0m\u001b[0mindex_label\u001b[0m\u001b[1;33m,\u001b[0m \u001b[0mmode\u001b[0m\u001b[1;33m=\u001b[0m\u001b[0mmode\u001b[0m\u001b[1;33m,\u001b[0m\u001b[1;33m\u001b[0m\u001b[0m\n\u001b[0;32m   2938\u001b[0m                            \u001b[0mencoding\u001b[0m\u001b[1;33m=\u001b[0m\u001b[0mencoding\u001b[0m\u001b[1;33m,\u001b[0m \u001b[0mdate_format\u001b[0m\u001b[1;33m=\u001b[0m\u001b[0mdate_format\u001b[0m\u001b[1;33m,\u001b[0m\u001b[1;33m\u001b[0m\u001b[0m\n\u001b[1;32m-> 2939\u001b[1;33m                            decimal=decimal)\n\u001b[0m\u001b[0;32m   2940\u001b[0m         \u001b[1;32mif\u001b[0m \u001b[0mpath\u001b[0m \u001b[1;32mis\u001b[0m \u001b[1;32mNone\u001b[0m\u001b[1;33m:\u001b[0m\u001b[1;33m\u001b[0m\u001b[0m\n\u001b[0;32m   2941\u001b[0m             \u001b[1;32mreturn\u001b[0m \u001b[0mresult\u001b[0m\u001b[1;33m\u001b[0m\u001b[0m\n",
      "\u001b[1;32m~\\Anaconda3\\lib\\site-packages\\pandas\\core\\frame.py\u001b[0m in \u001b[0;36mto_csv\u001b[1;34m(self, path_or_buf, sep, na_rep, float_format, columns, header, index, index_label, mode, encoding, compression, quoting, quotechar, line_terminator, chunksize, tupleize_cols, date_format, doublequote, escapechar, decimal)\u001b[0m\n\u001b[0;32m   1522\u001b[0m                                      \u001b[0mdoublequote\u001b[0m\u001b[1;33m=\u001b[0m\u001b[0mdoublequote\u001b[0m\u001b[1;33m,\u001b[0m\u001b[1;33m\u001b[0m\u001b[0m\n\u001b[0;32m   1523\u001b[0m                                      escapechar=escapechar, decimal=decimal)\n\u001b[1;32m-> 1524\u001b[1;33m         \u001b[0mformatter\u001b[0m\u001b[1;33m.\u001b[0m\u001b[0msave\u001b[0m\u001b[1;33m(\u001b[0m\u001b[1;33m)\u001b[0m\u001b[1;33m\u001b[0m\u001b[0m\n\u001b[0m\u001b[0;32m   1525\u001b[0m \u001b[1;33m\u001b[0m\u001b[0m\n\u001b[0;32m   1526\u001b[0m         \u001b[1;32mif\u001b[0m \u001b[0mpath_or_buf\u001b[0m \u001b[1;32mis\u001b[0m \u001b[1;32mNone\u001b[0m\u001b[1;33m:\u001b[0m\u001b[1;33m\u001b[0m\u001b[0m\n",
      "\u001b[1;32m~\\Anaconda3\\lib\\site-packages\\pandas\\io\\formats\\format.py\u001b[0m in \u001b[0;36msave\u001b[1;34m(self)\u001b[0m\n\u001b[0;32m   1635\u001b[0m             f, handles = _get_handle(self.path_or_buf, self.mode,\n\u001b[0;32m   1636\u001b[0m                                      \u001b[0mencoding\u001b[0m\u001b[1;33m=\u001b[0m\u001b[0mencoding\u001b[0m\u001b[1;33m,\u001b[0m\u001b[1;33m\u001b[0m\u001b[0m\n\u001b[1;32m-> 1637\u001b[1;33m                                      compression=self.compression)\n\u001b[0m\u001b[0;32m   1638\u001b[0m             \u001b[0mclose\u001b[0m \u001b[1;33m=\u001b[0m \u001b[1;32mTrue\u001b[0m\u001b[1;33m\u001b[0m\u001b[0m\n\u001b[0;32m   1639\u001b[0m \u001b[1;33m\u001b[0m\u001b[0m\n",
      "\u001b[1;32m~\\Anaconda3\\lib\\site-packages\\pandas\\io\\common.py\u001b[0m in \u001b[0;36m_get_handle\u001b[1;34m(path_or_buf, mode, encoding, compression, memory_map, is_text)\u001b[0m\n\u001b[0;32m    388\u001b[0m         \u001b[1;32melif\u001b[0m \u001b[0mencoding\u001b[0m\u001b[1;33m:\u001b[0m\u001b[1;33m\u001b[0m\u001b[0m\n\u001b[0;32m    389\u001b[0m             \u001b[1;31m# Python 3 and encoding\u001b[0m\u001b[1;33m\u001b[0m\u001b[1;33m\u001b[0m\u001b[0m\n\u001b[1;32m--> 390\u001b[1;33m             \u001b[0mf\u001b[0m \u001b[1;33m=\u001b[0m \u001b[0mopen\u001b[0m\u001b[1;33m(\u001b[0m\u001b[0mpath_or_buf\u001b[0m\u001b[1;33m,\u001b[0m \u001b[0mmode\u001b[0m\u001b[1;33m,\u001b[0m \u001b[0mencoding\u001b[0m\u001b[1;33m=\u001b[0m\u001b[0mencoding\u001b[0m\u001b[1;33m)\u001b[0m\u001b[1;33m\u001b[0m\u001b[0m\n\u001b[0m\u001b[0;32m    391\u001b[0m         \u001b[1;32melif\u001b[0m \u001b[0mis_text\u001b[0m\u001b[1;33m:\u001b[0m\u001b[1;33m\u001b[0m\u001b[0m\n\u001b[0;32m    392\u001b[0m             \u001b[1;31m# Python 3 and no explicit encoding\u001b[0m\u001b[1;33m\u001b[0m\u001b[1;33m\u001b[0m\u001b[0m\n",
      "\u001b[1;31mPermissionError\u001b[0m: [Errno 13] Permission denied: 'C:/Users/garim/Documents/Capstone/Full data/Normalized/count_summary.csv'"
     ]
    }
   ],
   "source": [
    "count_summary = tmirna_tcga.groupby(['TissueSourceSite','sample','portion','sampleC'])['index'].count()\n",
    "count_summary.to_csv(\"C:/Users/garim/Documents/Capstone/Full data/Normalized/count_summary.csv\")"
   ]
  },
  {
   "cell_type": "code",
   "execution_count": 21,
   "metadata": {},
   "outputs": [
    {
     "data": {
      "text/plain": [
       "<bound method NDFrame.head of TissueSourceSite                      sample                                           portion  sampleC\n",
       "Acute Myeloid Leukemia                Primary Blood Derived Cancer - Peripheral Blood  01       03         188\n",
       "Adrenocortical carcinoma              Primary Solid Tumor                              11       01          76\n",
       "                                                                                       12       01           1\n",
       "                                                                                       22       01           1\n",
       "                                                                                       31       01           2\n",
       "Bladder Urothelial Carcinoma          Metastatic                                       11       06           1\n",
       "                                      Primary Solid Tumor                              04       01           3\n",
       "                                                                                       11       01         299\n",
       "                                                                                       12       01          52\n",
       "                                                                                       21       01          26\n",
       "                                                                                       22       01           8\n",
       "                                                                                       31       01          20\n",
       "                                                                                       32       01           4\n",
       "                                                                                       41       01           2\n",
       "                                                                                       42       01           1\n",
       "                                                                                       51       01           1\n",
       "                                                                                       52       01           1\n",
       "                                      Solid Tissue Normal                              11       11          15\n",
       "                                                                                       13       11           2\n",
       "                                                                                       21       11           2\n",
       "Brain Lower Grade Glioma              Primary Solid Tumor                              01       01          30\n",
       "                                                                                       02       01           3\n",
       "                                                                                       03       01           1\n",
       "                                                                                       11       01         377\n",
       "                                                                                       12       01          54\n",
       "                                                                                       13       01           4\n",
       "                                                                                       21       01          41\n",
       "                                                                                       31       01           1\n",
       "                                                                                       51       01           1\n",
       "                                      Recurrent Solid Tumor                            11       02          11\n",
       "                                                                                                          ... \n",
       "Thyroid carcinoma                     Primary Solid Tumor                              31       01           2\n",
       "                                      Solid Tissue Normal                              11       11          46\n",
       "                                                                                       12       11           8\n",
       "                                                                                       13       11           2\n",
       "                                                                                       21       11           2\n",
       "                                                                                       22       11           1\n",
       "Uterine Carcinosarcoma                Primary Solid Tumor                              11       01          43\n",
       "                                                                                       12       01           5\n",
       "                                                                                       21       01           4\n",
       "                                                                                       22       01           1\n",
       "                                                                                       31       01           4\n",
       "Uterine Corpus Endometrial Carcinoma  Primary Solid Tumor                              02       01           1\n",
       "                                                                                       04       01           2\n",
       "                                                                                       11       01         416\n",
       "                                                                                       12       01          46\n",
       "                                                                                       13       01           2\n",
       "                                                                                       21       01          54\n",
       "                                                                                       22       01           3\n",
       "                                                                                       31       01          16\n",
       "                                                                                       32       01           2\n",
       "                                                                                       41       01           1\n",
       "                                                                                       51       01           2\n",
       "                                      Recurrent Solid Tumor                            11       02           1\n",
       "                                      Solid Tissue Normal                              11       11          26\n",
       "                                                                                       12       11           5\n",
       "                                                                                       22       11           1\n",
       "                                                                                       33       11           1\n",
       "Uveal Melanoma                        Primary Solid Tumor                              11       01          76\n",
       "                                                                                       12       01           3\n",
       "                                                                                       21       01           1\n",
       "Name: index, Length: 370, dtype: int64>"
      ]
     },
     "execution_count": 21,
     "metadata": {},
     "output_type": "execute_result"
    }
   ],
   "source": [
    "count_summary.head"
   ]
  },
  {
   "cell_type": "markdown",
   "metadata": {},
   "source": [
    "Exporting the modified TCGA miRNA dataframe to TmiRNA_TCGA csv file"
   ]
  },
  {
   "cell_type": "code",
   "execution_count": 22,
   "metadata": {
    "scrolled": true
   },
   "outputs": [
    {
     "data": {
      "text/html": [
       "<div>\n",
       "<style scoped>\n",
       "    .dataframe tbody tr th:only-of-type {\n",
       "        vertical-align: middle;\n",
       "    }\n",
       "\n",
       "    .dataframe tbody tr th {\n",
       "        vertical-align: top;\n",
       "    }\n",
       "\n",
       "    .dataframe thead th {\n",
       "        text-align: right;\n",
       "    }\n",
       "</style>\n",
       "<table border=\"1\" class=\"dataframe\">\n",
       "  <thead>\n",
       "    <tr style=\"text-align: right;\">\n",
       "      <th></th>\n",
       "      <th>index</th>\n",
       "      <th>hsa-let-7a-1</th>\n",
       "      <th>hsa-let-7a-2</th>\n",
       "      <th>hsa-let-7a-3</th>\n",
       "      <th>hsa-let-7b</th>\n",
       "      <th>hsa-let-7c</th>\n",
       "      <th>hsa-let-7d</th>\n",
       "      <th>hsa-let-7e</th>\n",
       "      <th>hsa-let-7f-1</th>\n",
       "      <th>hsa-let-7f-2</th>\n",
       "      <th>...</th>\n",
       "      <th>participant</th>\n",
       "      <th>portion_analyte</th>\n",
       "      <th>plate</th>\n",
       "      <th>center</th>\n",
       "      <th>sampleC</th>\n",
       "      <th>vial</th>\n",
       "      <th>portion</th>\n",
       "      <th>analyte</th>\n",
       "      <th>TissueSourceSite</th>\n",
       "      <th>sample</th>\n",
       "    </tr>\n",
       "  </thead>\n",
       "  <tbody>\n",
       "    <tr>\n",
       "      <th>3601</th>\n",
       "      <td>TCGA.NA.A4R0.01A.11R.A28Z.13</td>\n",
       "      <td>12.3769</td>\n",
       "      <td>12.381</td>\n",
       "      <td>12.372</td>\n",
       "      <td>13.2562</td>\n",
       "      <td>11.2049</td>\n",
       "      <td>9.69672</td>\n",
       "      <td>10.2564</td>\n",
       "      <td>10.618</td>\n",
       "      <td>10.6557</td>\n",
       "      <td>...</td>\n",
       "      <td>A4R0</td>\n",
       "      <td>11R</td>\n",
       "      <td>A28Z</td>\n",
       "      <td>13</td>\n",
       "      <td>01</td>\n",
       "      <td>A</td>\n",
       "      <td>11</td>\n",
       "      <td>R</td>\n",
       "      <td>Uterine Carcinosarcoma</td>\n",
       "      <td>Primary Solid Tumor</td>\n",
       "    </tr>\n",
       "    <tr>\n",
       "      <th>3681</th>\n",
       "      <td>TCGA.NA.A4QY.01A.11R.A28Z.13</td>\n",
       "      <td>10.6578</td>\n",
       "      <td>10.7078</td>\n",
       "      <td>10.7348</td>\n",
       "      <td>10.8439</td>\n",
       "      <td>11.1721</td>\n",
       "      <td>8.02792</td>\n",
       "      <td>10.4472</td>\n",
       "      <td>9.61919</td>\n",
       "      <td>9.59584</td>\n",
       "      <td>...</td>\n",
       "      <td>A4QY</td>\n",
       "      <td>11R</td>\n",
       "      <td>A28Z</td>\n",
       "      <td>13</td>\n",
       "      <td>01</td>\n",
       "      <td>A</td>\n",
       "      <td>11</td>\n",
       "      <td>R</td>\n",
       "      <td>Uterine Carcinosarcoma</td>\n",
       "      <td>Primary Solid Tumor</td>\n",
       "    </tr>\n",
       "    <tr>\n",
       "      <th>3754</th>\n",
       "      <td>TCGA.NA.A4QW.01A.11R.A28Z.13</td>\n",
       "      <td>11.7237</td>\n",
       "      <td>11.7177</td>\n",
       "      <td>11.7312</td>\n",
       "      <td>11.5102</td>\n",
       "      <td>11.2012</td>\n",
       "      <td>7.79701</td>\n",
       "      <td>10.4666</td>\n",
       "      <td>9.51552</td>\n",
       "      <td>9.57242</td>\n",
       "      <td>...</td>\n",
       "      <td>A4QW</td>\n",
       "      <td>11R</td>\n",
       "      <td>A28Z</td>\n",
       "      <td>13</td>\n",
       "      <td>01</td>\n",
       "      <td>A</td>\n",
       "      <td>11</td>\n",
       "      <td>R</td>\n",
       "      <td>Uterine Carcinosarcoma</td>\n",
       "      <td>Primary Solid Tumor</td>\n",
       "    </tr>\n",
       "    <tr>\n",
       "      <th>3787</th>\n",
       "      <td>TCGA.NA.A5I1.01A.21R.A28Z.13</td>\n",
       "      <td>10.2224</td>\n",
       "      <td>10.2434</td>\n",
       "      <td>10.2957</td>\n",
       "      <td>9.96817</td>\n",
       "      <td>12.1741</td>\n",
       "      <td>7.16426</td>\n",
       "      <td>11.2159</td>\n",
       "      <td>8.53762</td>\n",
       "      <td>8.63223</td>\n",
       "      <td>...</td>\n",
       "      <td>A5I1</td>\n",
       "      <td>21R</td>\n",
       "      <td>A28Z</td>\n",
       "      <td>13</td>\n",
       "      <td>01</td>\n",
       "      <td>A</td>\n",
       "      <td>21</td>\n",
       "      <td>R</td>\n",
       "      <td>Uterine Carcinosarcoma</td>\n",
       "      <td>Primary Solid Tumor</td>\n",
       "    </tr>\n",
       "    <tr>\n",
       "      <th>3835</th>\n",
       "      <td>TCGA.NA.A4R1.01A.11R.A28Z.13</td>\n",
       "      <td>11.8776</td>\n",
       "      <td>11.8704</td>\n",
       "      <td>11.9016</td>\n",
       "      <td>12.8604</td>\n",
       "      <td>13.7606</td>\n",
       "      <td>9.66969</td>\n",
       "      <td>10.9581</td>\n",
       "      <td>10.3718</td>\n",
       "      <td>10.3841</td>\n",
       "      <td>...</td>\n",
       "      <td>A4R1</td>\n",
       "      <td>11R</td>\n",
       "      <td>A28Z</td>\n",
       "      <td>13</td>\n",
       "      <td>01</td>\n",
       "      <td>A</td>\n",
       "      <td>11</td>\n",
       "      <td>R</td>\n",
       "      <td>Uterine Carcinosarcoma</td>\n",
       "      <td>Primary Solid Tumor</td>\n",
       "    </tr>\n",
       "    <tr>\n",
       "      <th>3901</th>\n",
       "      <td>TCGA.NA.A4QX.01A.11R.A28Z.13</td>\n",
       "      <td>11.7905</td>\n",
       "      <td>11.7957</td>\n",
       "      <td>11.8245</td>\n",
       "      <td>12.2793</td>\n",
       "      <td>12.4115</td>\n",
       "      <td>8.15547</td>\n",
       "      <td>9.31731</td>\n",
       "      <td>9.27588</td>\n",
       "      <td>9.38661</td>\n",
       "      <td>...</td>\n",
       "      <td>A4QX</td>\n",
       "      <td>11R</td>\n",
       "      <td>A28Z</td>\n",
       "      <td>13</td>\n",
       "      <td>01</td>\n",
       "      <td>A</td>\n",
       "      <td>11</td>\n",
       "      <td>R</td>\n",
       "      <td>Uterine Carcinosarcoma</td>\n",
       "      <td>Primary Solid Tumor</td>\n",
       "    </tr>\n",
       "    <tr>\n",
       "      <th>4010</th>\n",
       "      <td>TCGA.NA.A4QV.01A.11R.A28Z.13</td>\n",
       "      <td>11.105</td>\n",
       "      <td>11.0963</td>\n",
       "      <td>11.0943</td>\n",
       "      <td>12.0246</td>\n",
       "      <td>12.6843</td>\n",
       "      <td>9.64012</td>\n",
       "      <td>9.7421</td>\n",
       "      <td>10.1384</td>\n",
       "      <td>10.2188</td>\n",
       "      <td>...</td>\n",
       "      <td>A4QV</td>\n",
       "      <td>11R</td>\n",
       "      <td>A28Z</td>\n",
       "      <td>13</td>\n",
       "      <td>01</td>\n",
       "      <td>A</td>\n",
       "      <td>11</td>\n",
       "      <td>R</td>\n",
       "      <td>Uterine Carcinosarcoma</td>\n",
       "      <td>Primary Solid Tumor</td>\n",
       "    </tr>\n",
       "  </tbody>\n",
       "</table>\n",
       "<p>7 rows × 1459 columns</p>\n",
       "</div>"
      ],
      "text/plain": [
       "                             index hsa-let-7a-1 hsa-let-7a-2 hsa-let-7a-3  \\\n",
       "3601  TCGA.NA.A4R0.01A.11R.A28Z.13      12.3769       12.381       12.372   \n",
       "3681  TCGA.NA.A4QY.01A.11R.A28Z.13      10.6578      10.7078      10.7348   \n",
       "3754  TCGA.NA.A4QW.01A.11R.A28Z.13      11.7237      11.7177      11.7312   \n",
       "3787  TCGA.NA.A5I1.01A.21R.A28Z.13      10.2224      10.2434      10.2957   \n",
       "3835  TCGA.NA.A4R1.01A.11R.A28Z.13      11.8776      11.8704      11.9016   \n",
       "3901  TCGA.NA.A4QX.01A.11R.A28Z.13      11.7905      11.7957      11.8245   \n",
       "4010  TCGA.NA.A4QV.01A.11R.A28Z.13       11.105      11.0963      11.0943   \n",
       "\n",
       "     hsa-let-7b hsa-let-7c hsa-let-7d hsa-let-7e hsa-let-7f-1 hsa-let-7f-2  \\\n",
       "3601    13.2562    11.2049    9.69672    10.2564       10.618      10.6557   \n",
       "3681    10.8439    11.1721    8.02792    10.4472      9.61919      9.59584   \n",
       "3754    11.5102    11.2012    7.79701    10.4666      9.51552      9.57242   \n",
       "3787    9.96817    12.1741    7.16426    11.2159      8.53762      8.63223   \n",
       "3835    12.8604    13.7606    9.66969    10.9581      10.3718      10.3841   \n",
       "3901    12.2793    12.4115    8.15547    9.31731      9.27588      9.38661   \n",
       "4010    12.0246    12.6843    9.64012     9.7421      10.1384      10.2188   \n",
       "\n",
       "             ...          participant portion_analyte plate center sampleC  \\\n",
       "3601         ...                 A4R0             11R  A28Z     13      01   \n",
       "3681         ...                 A4QY             11R  A28Z     13      01   \n",
       "3754         ...                 A4QW             11R  A28Z     13      01   \n",
       "3787         ...                 A5I1             21R  A28Z     13      01   \n",
       "3835         ...                 A4R1             11R  A28Z     13      01   \n",
       "3901         ...                 A4QX             11R  A28Z     13      01   \n",
       "4010         ...                 A4QV             11R  A28Z     13      01   \n",
       "\n",
       "     vial portion analyte        TissueSourceSite               sample  \n",
       "3601    A      11       R  Uterine Carcinosarcoma  Primary Solid Tumor  \n",
       "3681    A      11       R  Uterine Carcinosarcoma  Primary Solid Tumor  \n",
       "3754    A      11       R  Uterine Carcinosarcoma  Primary Solid Tumor  \n",
       "3787    A      21       R  Uterine Carcinosarcoma  Primary Solid Tumor  \n",
       "3835    A      11       R  Uterine Carcinosarcoma  Primary Solid Tumor  \n",
       "3901    A      11       R  Uterine Carcinosarcoma  Primary Solid Tumor  \n",
       "4010    A      11       R  Uterine Carcinosarcoma  Primary Solid Tumor  \n",
       "\n",
       "[7 rows x 1459 columns]"
      ]
     },
     "execution_count": 22,
     "metadata": {},
     "output_type": "execute_result"
    }
   ],
   "source": [
    "tmirna_tcga.loc[tmirna_tcga['tssC']==\"NA\",:]"
   ]
  },
  {
   "cell_type": "code",
   "execution_count": 57,
   "metadata": {},
   "outputs": [],
   "source": [
    "tmirna_BRCA_s01s11= tmirna_tcga.loc[(tmirna_tcga['TissueSourceSite']==\"Breast invasive carcinoma\")&((tmirna_tcga['sampleC']==\"11\")|(tmirna_tcga['sampleC']==\"01\")),]"
   ]
  },
  {
   "cell_type": "code",
   "execution_count": 58,
   "metadata": {},
   "outputs": [],
   "source": [
    "mirna_BRCA_s01s11 = tmirna_BRCA_s01s11.transpose()"
   ]
  },
  {
   "cell_type": "code",
   "execution_count": 59,
   "metadata": {},
   "outputs": [
    {
     "data": {
      "text/plain": [
       "(1459, 1199)"
      ]
     },
     "execution_count": 59,
     "metadata": {},
     "output_type": "execute_result"
    }
   ],
   "source": [
    "mirna_BRCA_s01s11.shape"
   ]
  },
  {
   "cell_type": "code",
   "execution_count": 62,
   "metadata": {},
   "outputs": [],
   "source": [
    "mirna_BRCA_s01s11.columns = mirna_BRCA_s01s11.iloc[0,]\n",
    "mirna_BRCA_s01s11 = mirna_BRCA_s01s11.drop('index')"
   ]
  },
  {
   "cell_type": "code",
   "execution_count": 63,
   "metadata": {},
   "outputs": [],
   "source": [
    "list = mirna_BRCA_s01s11.index"
   ]
  },
  {
   "cell_type": "code",
   "execution_count": 64,
   "metadata": {},
   "outputs": [
    {
     "data": {
      "text/plain": [
       "Index(['hsa-let-7a-1', 'hsa-let-7a-2', 'hsa-let-7a-3', 'hsa-let-7b',\n",
       "       'hsa-let-7c', 'hsa-let-7d', 'hsa-let-7e', 'hsa-let-7f-1',\n",
       "       'hsa-let-7f-2', 'hsa-let-7g',\n",
       "       ...\n",
       "       'participant', 'portion_analyte', 'plate', 'center', 'sampleC', 'vial',\n",
       "       'portion', 'analyte', 'TissueSourceSite', 'sample'],\n",
       "      dtype='object', length=1458)"
      ]
     },
     "execution_count": 64,
     "metadata": {},
     "output_type": "execute_result"
    }
   ],
   "source": [
    "list"
   ]
  },
  {
   "cell_type": "code",
   "execution_count": 65,
   "metadata": {
    "scrolled": true
   },
   "outputs": [],
   "source": [
    "mirna_BRCA_s01s11.to_csv(\"C:/Users/garim/Documents/Capstone/Full data/Normalized/mirna_BRCA_s01s11.csv\")"
   ]
  }
 ],
 "metadata": {
  "kernelspec": {
   "display_name": "Python 3",
   "language": "python",
   "name": "python3"
  },
  "language_info": {
   "codemirror_mode": {
    "name": "ipython",
    "version": 3
   },
   "file_extension": ".py",
   "mimetype": "text/x-python",
   "name": "python",
   "nbconvert_exporter": "python",
   "pygments_lexer": "ipython3",
   "version": "3.6.4"
  }
 },
 "nbformat": 4,
 "nbformat_minor": 2
}
